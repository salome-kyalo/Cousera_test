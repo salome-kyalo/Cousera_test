{
 "cells": [
  {
   "cell_type": "markdown",
   "id": "679c6c6f",
   "metadata": {},
   "source": [
    "# This is my Project."
   ]
  },
  {
   "cell_type": "markdown",
   "id": "0095a44f",
   "metadata": {},
   "source": [
    "This is my second project in cousera I am excited to be here and the progress I have made so far."
   ]
  },
  {
   "cell_type": "markdown",
   "id": "94cde068",
   "metadata": {},
   "source": [
    "List of data science langauges.\n",
    "1. Python\n",
    "2. R\n",
    "3. SQL\n",
    "4. scala\n",
    "5. Matlab\n",
    "6. Java\n",
    "7. Javascript\n",
    "8. saas\n",
    "9. Go\n",
    "10. julia"
   ]
  },
  {
   "cell_type": "markdown",
   "id": "d3ffa379",
   "metadata": {},
   "source": [
    "List of data science libraries\n",
    "1. Pandas\n",
    "2. seaborn\n",
    "3. tensorflow\n",
    "4. Numpy\n",
    "5. pytorch\n",
    "6. sciPy\n",
    "7. matplotlab\n",
    "8. beautifulsoup\n",
    "9. keras\n",
    "10. bokeh"
   ]
  },
  {
   "cell_type": "markdown",
   "id": "29866d71",
   "metadata": {},
   "source": [
    "Data SCience tools\n",
    "1. Jupyter notebook\n",
    "2. Excel\n",
    "3. Anaconda\n",
    "4. rstudio\n",
    "5. spyder\n",
    "6. Apache spark\n",
    "7. Apache Hadoop\n",
    "8. SQL\n",
    "9. Github and Gitlab\n",
    "10. Googlecolab\n",
    "11. PowerBI\n",
    "12. Tableau"
   ]
  },
  {
   "cell_type": "markdown",
   "id": "4e606d84",
   "metadata": {},
   "source": [
    "introducing arithmetic expression examples\n",
    "1.\tAddition:\n",
    "•\tExample: 3+43+4\n",
    "•\tResult: 77\n",
    "2.\tSubtraction:\n",
    "•\tExample: 8−58−5\n",
    "•\tResult: 33\n",
    "3.\tMultiplication:\n",
    "•\tExample: 6×26×2\n",
    "•\tResult: 1212\n",
    "4.\tDivision:\n",
    "•\tExample: 10÷210÷2\n",
    "•\tResult: 55\n",
    "5.\tParentheses (for grouping):\n",
    "•\tExample: (4+3)×2(4+3)×2\n",
    "•\tResult: 1414\n",
    "6.\tExponentiation:\n",
    "•\tExample: 2323 (2 raised to the power of 3)\n",
    "•\tResult: 88\n",
    "7.\tMixed Operations:\n",
    "•\tExample: 5×(3+2)−85×(3+2)−8\n",
    "•\tResult: 1717\n",
    "8.\tSquare Root:\n",
    "•\tExample: 99 (square root of 9)\n",
    "•\tResult: 33\n",
    "9.\tModulo (Remainder):\n",
    "•\tExample: 11mod  311mod3 (remainder when 11 is divided by 3)\n",
    "•\tResult: 22\n",
    "10.\tFractional Expression:\n",
    "•\tExample: 3443 (3 divided by 4)\n",
    "•\tResult: 0.750.75\n"
   ]
  },
  {
   "cell_type": "code",
   "execution_count": 2,
   "id": "ef73258a",
   "metadata": {},
   "outputs": [
    {
     "data": {
      "text/plain": [
       "2048"
      ]
     },
     "execution_count": 2,
     "metadata": {},
     "output_type": "execute_result"
    }
   ],
   "source": [
    "#Create a code cell to multiply and add numbers.\n",
    "import numpy as np\n",
    "32*64"
   ]
  },
  {
   "cell_type": "code",
   "execution_count": 3,
   "id": "b7d95479",
   "metadata": {},
   "outputs": [
    {
     "name": "stdout",
     "output_type": "stream",
     "text": [
      "   Minutes     Hours\n",
      "0      400  6.666667\n",
      "1       50  0.833333\n",
      "2      130  2.166667\n",
      "3      180  3.000000\n"
     ]
    }
   ],
   "source": [
    "#Create a code cell to convert minutes to hours.\n",
    "import pandas as pd\n",
    "\n",
    "# Example data: a pandas Series with minutes\n",
    "minutes_data = pd.Series([400, 50, 130, 180])\n",
    "\n",
    "# Convert minutes to hours directly in the DataFrame\n",
    "conversion_df = pd.DataFrame({\n",
    "    'Minutes': minutes_data,\n",
    "    'Hours': minutes_data / 60\n",
    "})\n",
    "\n",
    "# Displaying the DataFrame\n",
    "print(conversion_df)\n"
   ]
  },
  {
   "cell_type": "markdown",
   "id": "705aa7d2",
   "metadata": {},
   "source": [
    "Insert a markdown cell to list Objectives.\n",
    "\n",
    "1. Understand the concept of converting minutes to hours.\n",
    "2. Learn how to use Python and pandas for data manipulation.\n",
    "3. Practice creating a pandas DataFrame with converted values.\n",
    "4. Explore the relationship between minutes and hours in a tabular format.\n",
    "5. Execute and observe the results of the code for better comprehension.\n"
   ]
  },
  {
   "cell_type": "markdown",
   "id": "aa551496",
   "metadata": {},
   "source": [
    "Authour - Salome Kyalo"
   ]
  },
  {
   "cell_type": "code",
   "execution_count": null,
   "id": "41658110",
   "metadata": {},
   "outputs": [],
   "source": []
  }
 ],
 "metadata": {
  "kernelspec": {
   "display_name": "Python 3 (ipykernel)",
   "language": "python",
   "name": "python3"
  },
  "language_info": {
   "codemirror_mode": {
    "name": "ipython",
    "version": 3
   },
   "file_extension": ".py",
   "mimetype": "text/x-python",
   "name": "python",
   "nbconvert_exporter": "python",
   "pygments_lexer": "ipython3",
   "version": "3.9.12"
  }
 },
 "nbformat": 4,
 "nbformat_minor": 5
}
